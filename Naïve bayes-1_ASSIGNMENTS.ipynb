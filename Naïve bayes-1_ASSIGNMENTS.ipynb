{
 "cells": [
  {
   "cell_type": "markdown",
   "id": "fe092330",
   "metadata": {},
   "source": [
    "# Naïve bayes-1_ASSIGNMENTS"
   ]
  },
  {
   "cell_type": "markdown",
   "id": "5320d0db",
   "metadata": {},
   "source": [
    "Q1. What is Bayes' theorem?"
   ]
  },
  {
   "cell_type": "code",
   "execution_count": 2,
   "id": "34f44dc7",
   "metadata": {},
   "outputs": [],
   "source": [
    "Ans1=\"\"\"Bayes' theorem is a fundamental concept in probability and statistics that describes how to update the probability of \n",
    "a hypothesis based on new evidence. Named after the statistician Thomas Bayes, it is used in various fields, including machine \n",
    "learning, statistics, and decision theory.\n",
    "\n",
    "\"\"\""
   ]
  },
  {
   "cell_type": "code",
   "execution_count": 4,
   "id": "60131ddc",
   "metadata": {},
   "outputs": [
    {
     "data": {
      "text/plain": [
       "\"Bayes' theorem is a fundamental concept in probability and statistics that describes how to update the probability of \\na hypothesis based on new evidence. Named after the statistician Thomas Bayes, it is used in various fields, including machine \\nlearning, statistics, and decision theory.\\n\\n\""
      ]
     },
     "execution_count": 4,
     "metadata": {},
     "output_type": "execute_result"
    }
   ],
   "source": [
    "Ans1"
   ]
  },
  {
   "cell_type": "markdown",
   "id": "5dc9473c",
   "metadata": {},
   "source": [
    "Q2. What is the formula for Bayes' theorem?"
   ]
  },
  {
   "cell_type": "code",
   "execution_count": 3,
   "id": "cb3297b6",
   "metadata": {},
   "outputs": [],
   "source": [
    "ANS2=\"\"\"The formula is \n",
    "P(A/B)= (P(A)*P(B/A)) / P(B)\n",
    "\"\"\"\n"
   ]
  },
  {
   "cell_type": "code",
   "execution_count": 5,
   "id": "49890e2f",
   "metadata": {},
   "outputs": [
    {
     "data": {
      "text/plain": [
       "'The formula is \\nP(A/B)= (P(A)*P(B/A)) / P(B)\\n'"
      ]
     },
     "execution_count": 5,
     "metadata": {},
     "output_type": "execute_result"
    }
   ],
   "source": [
    "ANS2"
   ]
  },
  {
   "cell_type": "markdown",
   "id": "0ca56ce2",
   "metadata": {},
   "source": [
    "Q3. How is Bayes' theorem used in practice?"
   ]
  },
  {
   "cell_type": "code",
   "execution_count": 1,
   "id": "0ad13f5e",
   "metadata": {},
   "outputs": [],
   "source": [
    "Ans3=\"\"\"Bayes' theorem is used in practice to update probabilities based on new evidence. Here are a few common applications:\n",
    "\n",
    "Medical Diagnostics: Bayes' theorem helps in diagnosing diseases by updating the probability of a condition based on test\n",
    "results. For example, if a patient tests positive for a disease, Bayes' theorem can refine the probability of the patient\n",
    "having that disease by combining the test’s accuracy with the prevalence of the disease.\n",
    "\n",
    "Spam Filtering: In email filtering, Bayes’ theorem helps classify messages as \"spam\" or \"not spam\" by calculating the \n",
    "probability that an email is spam based on the presence of specific keywords. This forms the basis of the Naive Bayes \n",
    "classifier in spam filtering systems.\n",
    "\n",
    "Machine Learning and Predictive Modeling: Bayes' theorem underpins Bayesian inference, a method widely used in machine learning\n",
    "to update the probability of a hypothesis as more data is observed. For example, in Bayesian networks, Bayes' theorem is used\n",
    "to model probabilistic relationships between variables, which is essential for decision-making and prediction.\n",
    "\n",
    "Decision Making and Risk Assessment: In finance and insurance, Bayes' theorem can help assess risks by continuously updating \n",
    "probabilities as new market data becomes available. This is useful for decisions related to investments, loan approvals, and \n",
    "credit scoring.\n",
    "\n",
    "A/B Testing and Marketing: In A/B testing, where companies compare two versions of a web page or ad, Bayes' theorem can refine\n",
    "the probability of success of each version based on user responses. This allows for more informed marketing and product \n",
    "decisions.\n",
    "\n",
    "Fault Detection in Engineering: Bayes’ theorem is also used in quality control and fault detection, where it calculates the\n",
    "probability of a system fault based on evidence like equipment signals or system alerts, helping in predictive maintenance and\n",
    "troubleshooting.\n",
    "\n",
    "Each of these applications utilizes Bayes’ theorem to make data-driven decisions by updating prior knowledge with new evidence.\n",
    "\"\"\""
   ]
  },
  {
   "cell_type": "code",
   "execution_count": 6,
   "id": "d78d05f5",
   "metadata": {},
   "outputs": [
    {
     "data": {
      "text/plain": [
       "'Bayes\\' theorem is used in practice to update probabilities based on new evidence. Here are a few common applications:\\n\\nMedical Diagnostics: Bayes\\' theorem helps in diagnosing diseases by updating the probability of a condition based on test\\nresults. For example, if a patient tests positive for a disease, Bayes\\' theorem can refine the probability of the patient\\nhaving that disease by combining the test’s accuracy with the prevalence of the disease.\\n\\nSpam Filtering: In email filtering, Bayes’ theorem helps classify messages as \"spam\" or \"not spam\" by calculating the \\nprobability that an email is spam based on the presence of specific keywords. This forms the basis of the Naive Bayes \\nclassifier in spam filtering systems.\\n\\nMachine Learning and Predictive Modeling: Bayes\\' theorem underpins Bayesian inference, a method widely used in machine learning\\nto update the probability of a hypothesis as more data is observed. For example, in Bayesian networks, Bayes\\' theorem is used\\nto model probabilistic relationships between variables, which is essential for decision-making and prediction.\\n\\nDecision Making and Risk Assessment: In finance and insurance, Bayes\\' theorem can help assess risks by continuously updating \\nprobabilities as new market data becomes available. This is useful for decisions related to investments, loan approvals, and \\ncredit scoring.\\n\\nA/B Testing and Marketing: In A/B testing, where companies compare two versions of a web page or ad, Bayes\\' theorem can refine\\nthe probability of success of each version based on user responses. This allows for more informed marketing and product \\ndecisions.\\n\\nFault Detection in Engineering: Bayes’ theorem is also used in quality control and fault detection, where it calculates the\\nprobability of a system fault based on evidence like equipment signals or system alerts, helping in predictive maintenance and\\ntroubleshooting.\\n\\nEach of these applications utilizes Bayes’ theorem to make data-driven decisions by updating prior knowledge with new evidence.\\n'"
      ]
     },
     "execution_count": 6,
     "metadata": {},
     "output_type": "execute_result"
    }
   ],
   "source": [
    "Ans3"
   ]
  },
  {
   "cell_type": "markdown",
   "id": "d793240e",
   "metadata": {},
   "source": [
    "\n",
    "Q4. What is the relationship between Bayes' theorem and conditional probability?\n",
    "\n"
   ]
  },
  {
   "cell_type": "code",
   "execution_count": 7,
   "id": "33114f26",
   "metadata": {},
   "outputs": [],
   "source": [
    "Ans4=\"\"\"Bayes' theorem is essentially a way to update our beliefs about something when we get new information. It relies on the\n",
    "concept of conditional probability, which is the idea of finding the probability of one event happening if we already know that\n",
    "another event has happened.\n",
    "\n",
    "For example, let’s say we want to know the probability that someone has a cold (event A), given that they are sneezing (event B).\n",
    "Conditional probability tells us how likely this is by considering how often people sneeze when they have a cold compared \n",
    "to when they don’t.\n",
    "\n",
    "Bayes’ theorem builds on this by reversing the perspective. It lets us use known information about one event to improve our\n",
    "prediction of another event. In our example, we might already know:\n",
    "\n",
    "How often people sneeze when they have a cold (this is called the likelihood).\n",
    "The overall probability that someone has a cold (called the prior probability).\n",
    "How common sneezing is in general (called the marginal probability).\n",
    "Using this information, Bayes' theorem calculates an updated probability (called the posterior probability) that someone has a\n",
    "cold, given that they are sneezing. This is incredibly useful in many situations because it lets us refine our beliefs as new \n",
    "information comes in.\n",
    "\n",
    "In short:\n",
    "\n",
    "Conditional probability is about the chance of one thing happening given that another thing has happened.\n",
    "Bayes' theorem uses conditional probability to adjust our expectations, or beliefs, based on new evidence, making our \n",
    "predictions more accurate.\"\"\""
   ]
  },
  {
   "cell_type": "code",
   "execution_count": 8,
   "id": "1637e676",
   "metadata": {},
   "outputs": [
    {
     "data": {
      "text/plain": [
       "\"Bayes' theorem is essentially a way to update our beliefs about something when we get new information. It relies on the\\nconcept of conditional probability, which is the idea of finding the probability of one event happening if we already know that\\nanother event has happened.\\n\\nFor example, let’s say we want to know the probability that someone has a cold (event A), given that they are sneezing (event B).\\nConditional probability tells us how likely this is by considering how often people sneeze when they have a cold compared \\nto when they don’t.\\n\\nBayes’ theorem builds on this by reversing the perspective. It lets us use known information about one event to improve our\\nprediction of another event. In our example, we might already know:\\n\\nHow often people sneeze when they have a cold (this is called the likelihood).\\nThe overall probability that someone has a cold (called the prior probability).\\nHow common sneezing is in general (called the marginal probability).\\nUsing this information, Bayes' theorem calculates an updated probability (called the posterior probability) that someone has a\\ncold, given that they are sneezing. This is incredibly useful in many situations because it lets us refine our beliefs as new \\ninformation comes in.\\n\\nIn short:\\n\\nConditional probability is about the chance of one thing happening given that another thing has happened.\\nBayes' theorem uses conditional probability to adjust our expectations, or beliefs, based on new evidence, making our \\npredictions more accurate.\""
      ]
     },
     "execution_count": 8,
     "metadata": {},
     "output_type": "execute_result"
    }
   ],
   "source": [
    "Ans4"
   ]
  },
  {
   "cell_type": "markdown",
   "id": "16147ae5",
   "metadata": {},
   "source": [
    "Q5. How do you choose which type of Naive Bayes classifier to use for any given problem?"
   ]
  },
  {
   "cell_type": "code",
   "execution_count": 12,
   "id": "e1878407",
   "metadata": {},
   "outputs": [],
   "source": [
    "Ans5=\"\"\"Choosing the right type of Naive Bayes classifier depends on the type and distribution of your data. Here’s a quick \n",
    "guide to selecting the appropriate one:\n",
    "\n",
    "Gaussian Naive Bayes:\n",
    "\n",
    "Use Gaussian Naive Bayes if your features (input variables) are continuous and you suspect that they follow a normal (Gaussian)\n",
    "distribution.\n",
    "For example, this is often suitable for problems where features are measurements like height, weight, or temperature, which \n",
    "often approximate a Gaussian distribution.\n",
    "Multinomial Naive Bayes:\n",
    "\n",
    "Multinomial Naive Bayes is best suited for discrete data where the features represent counts or frequencies.\n",
    "This is commonly used in text classification tasks, such as spam detection or sentiment analysis, where the features might\n",
    "represent word counts or term frequencies. It works well when features are non-negative and can take on integer values.\n",
    "Bernoulli Naive Bayes:\n",
    "\n",
    "Bernoulli Naive Bayes is ideal for binary or Boolean features, where each feature represents the presence or absence of a \n",
    "characteristic (e.g., a word in text classification).\n",
    "This classifier is effective for document classification tasks where the data can be reduced to binary variables, such as \n",
    "whether a word appears in a document or not.\"\"\""
   ]
  },
  {
   "cell_type": "code",
   "execution_count": 13,
   "id": "4738051b",
   "metadata": {},
   "outputs": [
    {
     "data": {
      "text/plain": [
       "'Choosing the right type of Naive Bayes classifier depends on the type and distribution of your data. Here’s a quick \\nguide to selecting the appropriate one:\\n\\nGaussian Naive Bayes:\\n\\nUse Gaussian Naive Bayes if your features (input variables) are continuous and you suspect that they follow a normal (Gaussian)\\ndistribution.\\nFor example, this is often suitable for problems where features are measurements like height, weight, or temperature, which \\noften approximate a Gaussian distribution.\\nMultinomial Naive Bayes:\\n\\nMultinomial Naive Bayes is best suited for discrete data where the features represent counts or frequencies.\\nThis is commonly used in text classification tasks, such as spam detection or sentiment analysis, where the features might\\nrepresent word counts or term frequencies. It works well when features are non-negative and can take on integer values.\\nBernoulli Naive Bayes:\\n\\nBernoulli Naive Bayes is ideal for binary or Boolean features, where each feature represents the presence or absence of a \\ncharacteristic (e.g., a word in text classification).\\nThis classifier is effective for document classification tasks where the data can be reduced to binary variables, such as \\nwhether a word appears in a document or not.'"
      ]
     },
     "execution_count": 13,
     "metadata": {},
     "output_type": "execute_result"
    }
   ],
   "source": [
    "Ans5"
   ]
  },
  {
   "cell_type": "markdown",
   "id": "c62acf33",
   "metadata": {},
   "source": [
    "Q6. Assignment:\n",
    "You have a dataset with two features, X1 and X2, and two possible classes, A and B. You want to use Naive\n",
    "Bayes to classify a new instance with features X1 = 3 and X2 = 4. The following table shows the frequency of\n",
    "each feature value for each class:\n",
    "\n",
    "Class X1=1 X1=2 X1=3 X2=1 X2=2 X2=3 X2=4\n",
    "\n",
    " A 3 3 4 4 3 3 3\n",
    "\n",
    " B 2 2 1 2 2 2 3\n",
    "\n",
    "Assuming equal prior probabilities for each class, which class would Naive Bayes predict the new instance\n",
    "to belong to?"
   ]
  },
  {
   "cell_type": "code",
   "execution_count": 14,
   "id": "cc3b885d",
   "metadata": {},
   "outputs": [],
   "source": [
    "Ans7=\"\"\"the classifier would predict that the new instance belongs to Class A.\"\"\""
   ]
  },
  {
   "cell_type": "code",
   "execution_count": 15,
   "id": "054c47e1",
   "metadata": {},
   "outputs": [
    {
     "data": {
      "text/plain": [
       "'the classifier would predict that the new instance belongs to Class A.'"
      ]
     },
     "execution_count": 15,
     "metadata": {},
     "output_type": "execute_result"
    }
   ],
   "source": [
    "Ans7"
   ]
  },
  {
   "cell_type": "code",
   "execution_count": null,
   "id": "15f85cbc",
   "metadata": {},
   "outputs": [],
   "source": []
  }
 ],
 "metadata": {
  "kernelspec": {
   "display_name": "Python 3 (ipykernel)",
   "language": "python",
   "name": "python3"
  },
  "language_info": {
   "codemirror_mode": {
    "name": "ipython",
    "version": 3
   },
   "file_extension": ".py",
   "mimetype": "text/x-python",
   "name": "python",
   "nbconvert_exporter": "python",
   "pygments_lexer": "ipython3",
   "version": "3.9.12"
  }
 },
 "nbformat": 4,
 "nbformat_minor": 5
}
